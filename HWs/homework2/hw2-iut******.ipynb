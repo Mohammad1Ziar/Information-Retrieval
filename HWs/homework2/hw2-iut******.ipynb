{
 "cells": [
  {
   "cell_type": "code",
   "execution_count": 45,
   "id": "f43000be-fb8b-4f14-af14-114320cd0fe7",
   "metadata": {},
   "outputs": [
    {
     "name": "stdout",
     "output_type": "stream",
     "text": [
      "<<< ranking >>>\n",
      "D2: Point = 3\n",
      "D1: Point = 2\n",
      "D3: Point = 2\n",
      "D4: Point = 2\n",
      "D5: Point = 2\n",
      "D7: Point = 2\n",
      "D8: Point = 2\n",
      "D6: Point = 1\n"
     ]
    }
   ],
   "source": [
    "#In the name of GOD\n",
    "#Advanced IR\n",
    "#homework2\n",
    "#SName: Mohammad Ziyar\n",
    "#SNumber: *******\n",
    "\n",
    "#import numpy for using data\n",
    "import numpy as np\n",
    "from collections import Counter #used for count\n",
    "\n",
    "#define the query and documents\n",
    "query = \"information retrieval models\"\n",
    "documents = [\n",
    "    \"Information retrieval is the process of obtaining relevant information from a collection.\",\n",
    "    \"Information retrieval models like vector space and probabilistic models are important.\",\n",
    "    \"The goal of information retrieval is to find documents relevant to the user's query.\",\n",
    "    \"Search engines use information retrieval techniques to rank relevant documents.\",\n",
    "    \"Machine learning is being integrated into information retrieval systems for better accuracy.\",\n",
    "    \"The vector space model is a classical approach to information retrieval.\",\n",
    "    \"Probabilistic models provide a statistical framework for ranking documents in information retrieval.\",\n",
    "    \"Information retrieval systems are evolving with advancements in artificial intelligence.\"\n",
    "]\n",
    "\n",
    "#tokenize query and documents\n",
    "def tokenize(text):\n",
    "    return text.lower().split()\n",
    "\n",
    "query_tokens = set(tokenize(query))\n",
    "tokenized_docs = [set(tokenize(doc)) for doc in documents]\n",
    "\n",
    "#calculate BIM points\n",
    "def calcu_bim_point(query_tokens, document_tokens):\n",
    "    common_terms = query_tokens.intersection(document_tokens)\n",
    "    return len(common_terms)  # Count of common terms as the point\n",
    "\n",
    "#point each document using BIM\n",
    "bim_point = []\n",
    "for idx, doc_tokens in enumerate(tokenized_docs):\n",
    "    point = calcu_bim_point(query_tokens, doc_tokens)\n",
    "    bim_point.append((f\"D{idx+1}\", point))\n",
    "\n",
    "#sort documents by point in descending order\n",
    "ranked_documents = sorted(bim_point, key=lambda x: x[1], reverse=True)\n",
    "\n",
    "#display the ranked documents with their points\n",
    "print(\"<<< ranking >>>\")\n",
    "for doc_id, point in ranked_documents:\n",
    "    print(f\"{doc_id}: Point = {point}\")\n"
   ]
  },
  {
   "cell_type": "code",
   "execution_count": null,
   "id": "7931aefb-4817-4f09-be06-e29e2eb0d257",
   "metadata": {},
   "outputs": [],
   "source": []
  }
 ],
 "metadata": {
  "kernelspec": {
   "display_name": "Python 3 (ipykernel)",
   "language": "python",
   "name": "python3"
  },
  "language_info": {
   "codemirror_mode": {
    "name": "ipython",
    "version": 3
   },
   "file_extension": ".py",
   "mimetype": "text/x-python",
   "name": "python",
   "nbconvert_exporter": "python",
   "pygments_lexer": "ipython3",
   "version": "3.11.7"
  }
 },
 "nbformat": 4,
 "nbformat_minor": 5
}
