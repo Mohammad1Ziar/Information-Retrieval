{
 "cells": [
  {
   "cell_type": "code",
   "execution_count": 69,
   "id": "4877aeef-8664-4064-a680-82257bd63731",
   "metadata": {},
   "outputs": [],
   "source": [
    "#import numpy as np\n",
    "import math\n",
    "from collections import Counter"
   ]
  },
  {
   "cell_type": "markdown",
   "id": "c18f463a-2329-454f-808a-7a17b31e91a5",
   "metadata": {},
   "source": [
    "با سلام و خسته نباشید. در ادامه توضیحات کد را مشاهده میکنید.\n",
    "کتابخوانه های مورد نیاز\n",
    "(نامپای را همیشه برحسب عادت مینویسم و کپشن میکنم وگرنه در این تمرین اصلا از نامپای استفاده نشده است.)"
   ]
  },
  {
   "cell_type": "code",
   "execution_count": 72,
   "id": "9a785e34-bd1c-47be-aefa-f1b0bb4e6b43",
   "metadata": {},
   "outputs": [
    {
     "name": "stdout",
     "output_type": "stream",
     "text": [
      "Query is: machine learning\n",
      "Document1 is: Machine learning machine learning machine learning machine learning machine learning machine learning machine learning machine learning machine learning machine learning. Machine learning is a subset of artificial intelligence that provides systems the ability to automatically learn and improve from experience without being explicitly programmed. The primary aim is to allow computers to learn automatically without human intervention or assistance and adjust actions accordingly. Machine learning focuses on the development of computer programs that can access data and use it to learn for themselves.\n",
      "Document2 is: Technology has revolutionized every aspect of modern life. From smartphones to advances in biotechnology, the impact is profound. Machine learning plays a crucial role in data analysis, predictive modeling, and automation. Other technologies like blockchain, cloud computing, and quantum computing are also emerging rapidly. The integration of these technologies is shaping the future of industries worldwide. In manufacturing, machine learning algorithms optimize production lines. In healthcare, machine learning aids in diagnosing diseases. The transportation sector uses machine learning for autonomous vehicles. With the growth of big data, the importance of machine learning continues to increase. Ethical considerations in machine learning are becoming more prominent as the technology advances.\n"
     ]
    }
   ],
   "source": [
    "#define query n documents\n",
    "q = \"machine learning\"\n",
    "d1 = \"Machine learning machine learning machine learning machine learning machine learning machine learning machine learning machine learning machine learning machine learning. Machine learning is a subset of artificial intelligence that provides systems the ability to automatically learn and improve from experience without being explicitly programmed. The primary aim is to allow computers to learn automatically without human intervention or assistance and adjust actions accordingly. Machine learning focuses on the development of computer programs that can access data and use it to learn for themselves.\"\n",
    "d2 = \"Technology has revolutionized every aspect of modern life. From smartphones to advances in biotechnology, the impact is profound. Machine learning plays a crucial role in data analysis, predictive modeling, and automation. Other technologies like blockchain, cloud computing, and quantum computing are also emerging rapidly. The integration of these technologies is shaping the future of industries worldwide. In manufacturing, machine learning algorithms optimize production lines. In healthcare, machine learning aids in diagnosing diseases. The transportation sector uses machine learning for autonomous vehicles. With the growth of big data, the importance of machine learning continues to increase. Ethical considerations in machine learning are becoming more prominent as the technology advances.\"\n",
    "\n",
    "print(\"Query is:\", q)\n",
    "print(\"Document1 is:\", d1)  \n",
    "print(\"Document2 is:\", d2)\n",
    "docs = [d1, d2]"
   ]
  },
  {
   "cell_type": "markdown",
   "id": "6b6a3b78-e448-47be-8ad1-16dbcf6b75f1",
   "metadata": {},
   "source": [
    "محتوای کوئری درون رشته کیو ریخته شده است\n",
    "همچنین محتوای داکیومنت های 1 و 2 نیز درون رشته مربوطه قرار گرفتند \n",
    "در انتها هریک را در خروجی چاپ کردیم.\n",
    "همچنین دو سند متنی را در یک لیست قرار دادم."
   ]
  },
  {
   "cell_type": "code",
   "execution_count": 75,
   "id": "02ec88e1-6404-48af-a8e8-b634df5e0ef9",
   "metadata": {},
   "outputs": [],
   "source": [
    "#calcu PLN func\n",
    "def norm_len(doc, k=0.5):\n",
    "    terms = doc.lower().split()\n",
    "    tf = Counter(terms)\n",
    "    N = len(terms)\n",
    "    norm_length = 0\n",
    "    \n",
    "    for term, freq in tf.items():\n",
    "        norm_length += (freq / N) * (1 - k) + k\n",
    "    return norm_length"
   ]
  },
  {
   "cell_type": "markdown",
   "id": "922ad17e-590d-41fe-8ca4-165e68aae560",
   "metadata": {},
   "source": [
    "تابع نورم-لن طول نرمال شده اسناد را محاسبه میکند\n",
    "تمامی ترم ها و کلمات هر سند نیز بصورت یک لیست از کلمات با حروف کوچیک در میان\n",
    "در اخر هم برای هر کلمه و فرکانسش، طول نرمال شده با استفاده از فرمولی که نوشته شده محاسبه میشه."
   ]
  },
  {
   "cell_type": "code",
   "execution_count": 78,
   "id": "88664e6d-b094-4026-b20b-ab940226e19b",
   "metadata": {},
   "outputs": [],
   "source": [
    "#calcu PLN for each doc\n",
    "def rank_docs_pivoted(q, docs):\n",
    "    q_terms = q.lower().split()\n",
    "    scores = []\n",
    "    \n",
    "    for doc in docs:\n",
    "        doc_terms = doc.lower().split()\n",
    "        doc_score = 0\n",
    "        for term in q_terms:\n",
    "            doc_score += norm_len(doc)\n",
    "        scores.append(doc_score)\n",
    "    \n",
    "    return scores\n"
   ]
  },
  {
   "cell_type": "markdown",
   "id": "df3d2eb1-f0e2-425f-bece-b97548dc0d8b",
   "metadata": {},
   "source": [
    "کوئری که تبدیل به ترم های مختلف شد. بعدش برای هر سند طول نرمال  رو با تابع نورم-لن حساب میکنیم"
   ]
  },
  {
   "cell_type": "code",
   "execution_count": 81,
   "id": "4c84616a-148a-4fe5-b37b-8d40c411cd0c",
   "metadata": {},
   "outputs": [
    {
     "name": "stdout",
     "output_type": "stream",
     "text": [
      "Pivoted Normalization Scores: [48.99999999999996, 77.99999999999993]\n"
     ]
    }
   ],
   "source": [
    "#Calcu Rank base on PLN scores of each doc\n",
    "pivoted_scores = rank_docs_pivoted(q, docs)\n",
    "print(\"Pivoted Normalization Scores:\", pivoted_scores)\n",
    "\n",
    "#calcu BM25 func\n",
    "def bm25_score(q, doc, k1=1.5, b=0.75):\n",
    "    terms = doc.lower().split()\n",
    "    tf = Counter(terms)\n",
    "    doc_len = len(terms)\n",
    "    avg_dl = sum(len(d.lower().split()) for d in docs) / len(docs)\n",
    "    score = 0\n",
    "    \n",
    "    for term in q.lower().split():\n",
    "        if term in tf:\n",
    "            tf_val = tf[term]\n",
    "            idf = math.log((len(docs) - sum(1 for d in docs if term in d.lower().split()) + 0.5) / (sum(1 for d in docs if term in d.lower().split()) + 0.5))\n",
    "            score += idf * ((tf_val * (k1 + 1)) / (tf_val + k1 * (1 - b + b * (doc_len / avg_dl))))\n",
    "    \n",
    "    return score\n"
   ]
  },
  {
   "cell_type": "markdown",
   "id": "7bd13111-93cc-45de-a08a-8f8bb6b6a017",
   "metadata": {},
   "source": [
    "مقدار پیوت نرمال شده برای هر سند رو پرینت میکنیم توی خروجی\n",
    "و در ادامه قسمت بعدی از سوال که مربوط به بی ام 25 میشه رو انجام میدیم\n",
    "\n",
    "تابع بی ام رو بر اساس کوئری محاسبه میکنیم که \n",
    "طول سند، طول متوسط سند و تابع ای دی اف برای هر کلمه داخلش قرار میدیم که حساب کنه\n",
    "در نهایت مقدار عددی بی ام 25 سند با فرمول محاسبه میشه."
   ]
  },
  {
   "cell_type": "code",
   "execution_count": 88,
   "id": "545d9c22-0409-4351-8678-9c6813f3ec76",
   "metadata": {},
   "outputs": [
    {
     "name": "stdout",
     "output_type": "stream",
     "text": [
      "BM25 Scores are: [-7.198941084849965, -6.3137898079571375]\n"
     ]
    }
   ],
   "source": [
    "#calcu doc score base on BM25\n",
    "def rank_docs_bm25(q, docs):\n",
    "    scores = []\n",
    "    for doc in docs:\n",
    "        score = bm25_score(q, doc)\n",
    "        scores.append(score)\n",
    "    \n",
    "    return scores\n",
    "\n",
    "#prepare score for docs base od BM25\n",
    "bm25_scores = rank_docs_bm25(q, docs)\n",
    "print(\"BM25 Scores are:\", bm25_scores)"
   ]
  },
  {
   "cell_type": "markdown",
   "id": "fd99b7f5-1573-4e37-b6d7-9bc1b0dd30d2",
   "metadata": {
    "scrolled": true
   },
   "source": [
    "مقدار عددی بی ام 25 رو برای تمام اسناد محاسبه میکنیم که کلا 2 تا سند داریم\n",
    "در انتها هم مقدار عددی اونارو در خروجی پرینت میکنیم."
   ]
  },
  {
   "cell_type": "code",
   "execution_count": null,
   "id": "b7865068-2064-4075-8958-13e5036e9afb",
   "metadata": {},
   "outputs": [],
   "source": []
  }
 ],
 "metadata": {
  "kernelspec": {
   "display_name": "Python 3 (ipykernel)",
   "language": "python",
   "name": "python3"
  },
  "language_info": {
   "codemirror_mode": {
    "name": "ipython",
    "version": 3
   },
   "file_extension": ".py",
   "mimetype": "text/x-python",
   "name": "python",
   "nbconvert_exporter": "python",
   "pygments_lexer": "ipython3",
   "version": "3.11.7"
  }
 },
 "nbformat": 4,
 "nbformat_minor": 5
}
